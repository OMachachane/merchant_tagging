{
 "cells": [
  {
   "cell_type": "code",
   "execution_count": null,
   "metadata": {},
   "outputs": [],
   "source": [
    "# !python -m spacy download en_core_web_md\n",
    "# !python -m spacy download en_core_web_sm\n",
    "# !pip install spacy[transformers]\n",
    "# pip install fuzzywuzzy\n",
    "# pip install python-Levenshtein\n",
    "# !pip install openpyxl\n",
    "# !pip install python-certifi-win32\n",
    "# !pip install spacy\n",
    "# pip install ruamel.yaml\n",
    "# pip install pyarrow\n",
    "#pip install swifter"
   ]
  },
  {
   "cell_type": "code",
   "execution_count": 1,
   "metadata": {},
   "outputs": [],
   "source": [
    "import swifter\n",
    "import spacy\n",
    "import ssl\n",
    "from spacy import displacy\n",
    "import pandas as pd\n",
    "from spacy.lang.en import English\n",
    "from spacy.pipeline import EntityRuler\n",
    "from sklearn.metrics import accuracy_score\n",
    "\n",
    "from fuzzywuzzy import fuzz\n",
    "from fuzzywuzzy import process\n",
    "from fuzzywuzzy import process, fuzz\n",
    "\n",
    "import pandas as pd\n",
    "import numpy as np\n",
    "import matplotlib.pyplot as plt\n",
    "import pandas as pd\n",
    "import seaborn as sns\n",
    "\n",
    "from tqdm import tqdm\n",
    "tqdm.pandas()"
   ]
  },
  {
   "cell_type": "code",
   "execution_count": 2,
   "metadata": {},
   "outputs": [],
   "source": [
    "df = pd.read_parquet('C:/Users/Olimpio.Dasilva/Desktop/MACHINE LEARNING/DATA/reporting_ncr_all_transactions_202302131044.parquet')\n",
    "\n",
    "NER = spacy.load(\"en_core_web_sm\")\n"
   ]
  },
  {
   "cell_type": "code",
   "execution_count": 3,
   "metadata": {},
   "outputs": [
    {
     "data": {
      "text/html": [
       "<div>\n",
       "<style scoped>\n",
       "    .dataframe tbody tr th:only-of-type {\n",
       "        vertical-align: middle;\n",
       "    }\n",
       "\n",
       "    .dataframe tbody tr th {\n",
       "        vertical-align: top;\n",
       "    }\n",
       "\n",
       "    .dataframe thead th {\n",
       "        text-align: right;\n",
       "    }\n",
       "</style>\n",
       "<table border=\"1\" class=\"dataframe\">\n",
       "  <thead>\n",
       "    <tr style=\"text-align: right;\">\n",
       "      <th></th>\n",
       "      <th>fi_id</th>\n",
       "      <th>account_id</th>\n",
       "      <th>transaction_id</th>\n",
       "      <th>amount</th>\n",
       "      <th>currency</th>\n",
       "      <th>txn_desc1</th>\n",
       "      <th>txn_desc2</th>\n",
       "      <th>region</th>\n",
       "      <th>transaction_timestamp</th>\n",
       "      <th>merchant_id</th>\n",
       "      <th>merchant_name</th>\n",
       "      <th>payment_agent</th>\n",
       "      <th>payment_agent_id</th>\n",
       "      <th>extract_date</th>\n",
       "      <th>filename</th>\n",
       "      <th>name</th>\n",
       "    </tr>\n",
       "  </thead>\n",
       "  <tbody>\n",
       "    <tr>\n",
       "      <th>0</th>\n",
       "      <td>DI1004</td>\n",
       "      <td>Adb7cee870873375e9b71f97b49bb47f3</td>\n",
       "      <td>T8c3444845ea837d98f6492fbfeb996b1</td>\n",
       "      <td>300.0</td>\n",
       "      <td>USD</td>\n",
       "      <td>External Withdrawal TJMAXX</td>\n",
       "      <td>MASTERCAR NEEDHAM BANK BP BILL PAYMT</td>\n",
       "      <td>MT</td>\n",
       "      <td>2023-02-08</td>\n",
       "      <td>12897.0</td>\n",
       "      <td>TJ MAXX</td>\n",
       "      <td>Unknow Payment Agent</td>\n",
       "      <td>NaN</td>\n",
       "      <td>2023-02-13</td>\n",
       "      <td>FTS_CSLK_TRANSAC_20230212_100011.csv</td>\n",
       "      <td>Needham Bank</td>\n",
       "    </tr>\n",
       "    <tr>\n",
       "      <th>1</th>\n",
       "      <td>DI1004</td>\n",
       "      <td>A0d0f7d433a6f3cf4815fc5f7f77bbf73</td>\n",
       "      <td>Td0c9a05199c034f282105c258edf4c90</td>\n",
       "      <td>42.5</td>\n",
       "      <td>USD</td>\n",
       "      <td>POS Withdrawal (FIP) SUNOCO</td>\n",
       "      <td>*63 SUNOCO *63 FRAMINGHAM MA(8631)</td>\n",
       "      <td>None</td>\n",
       "      <td>2023-02-08</td>\n",
       "      <td>12696.0</td>\n",
       "      <td>SUNOCO</td>\n",
       "      <td>Unknow Payment Agent</td>\n",
       "      <td>NaN</td>\n",
       "      <td>2023-02-13</td>\n",
       "      <td>FTS_CSLK_TRANSAC_20230212_100011.csv</td>\n",
       "      <td>Needham Bank</td>\n",
       "    </tr>\n",
       "    <tr>\n",
       "      <th>2</th>\n",
       "      <td>DI1004</td>\n",
       "      <td>Ac9fb869c66b83cb7a6f0d84e5f37d60a</td>\n",
       "      <td>Tf9ce6b86a4e1379eb600c9af4c1ae90e</td>\n",
       "      <td>250.0</td>\n",
       "      <td>USD</td>\n",
       "      <td>External Withdrawal BARCLAYCARD</td>\n",
       "      <td>US CREDITCARD</td>\n",
       "      <td>None</td>\n",
       "      <td>2023-02-07</td>\n",
       "      <td>NaN</td>\n",
       "      <td>Unknow Merchant</td>\n",
       "      <td>Unknow Payment Agent</td>\n",
       "      <td>NaN</td>\n",
       "      <td>2023-02-13</td>\n",
       "      <td>FTS_CSLK_TRANSAC_20230212_100011.csv</td>\n",
       "      <td>Needham Bank</td>\n",
       "    </tr>\n",
       "    <tr>\n",
       "      <th>3</th>\n",
       "      <td>DI1004</td>\n",
       "      <td>Ade85fffa5da73362bd6b0522721820a3</td>\n",
       "      <td>T4f1445aa5fd536f09d13bd6918c057fb</td>\n",
       "      <td>42.5</td>\n",
       "      <td>USD</td>\n",
       "      <td>ATM Withdrawal (FIP) SUNSHINE</td>\n",
       "      <td>LLC-60 464 MAIN ST WEST SPRINGFI MA(5681)</td>\n",
       "      <td>None</td>\n",
       "      <td>2023-02-08</td>\n",
       "      <td>NaN</td>\n",
       "      <td>Unknow Merchant</td>\n",
       "      <td>Unknow Payment Agent</td>\n",
       "      <td>NaN</td>\n",
       "      <td>2023-02-13</td>\n",
       "      <td>FTS_CSLK_TRANSAC_20230212_100011.csv</td>\n",
       "      <td>Needham Bank</td>\n",
       "    </tr>\n",
       "    <tr>\n",
       "      <th>4</th>\n",
       "      <td>DI1004</td>\n",
       "      <td>A1f3390a72bf035a48a21fce7d72df58a</td>\n",
       "      <td>T7be6870fc08e30c48fd78836885adf12</td>\n",
       "      <td>114.5</td>\n",
       "      <td>USD</td>\n",
       "      <td>POS Withdrawal (FIP) NNT</td>\n",
       "      <td>DESTINATION 735 PROVIDENCE HWY DEDHAM MA(7169)</td>\n",
       "      <td>None</td>\n",
       "      <td>2023-02-11</td>\n",
       "      <td>NaN</td>\n",
       "      <td>Unknow Merchant</td>\n",
       "      <td>Unknow Payment Agent</td>\n",
       "      <td>NaN</td>\n",
       "      <td>2023-02-13</td>\n",
       "      <td>FTS_CSLK_TRANSAC_20230212_100011.csv</td>\n",
       "      <td>Needham Bank</td>\n",
       "    </tr>\n",
       "  </tbody>\n",
       "</table>\n",
       "</div>"
      ],
      "text/plain": [
       "    fi_id                         account_id  \\\n",
       "0  DI1004  Adb7cee870873375e9b71f97b49bb47f3   \n",
       "1  DI1004  A0d0f7d433a6f3cf4815fc5f7f77bbf73   \n",
       "2  DI1004  Ac9fb869c66b83cb7a6f0d84e5f37d60a   \n",
       "3  DI1004  Ade85fffa5da73362bd6b0522721820a3   \n",
       "4  DI1004  A1f3390a72bf035a48a21fce7d72df58a   \n",
       "\n",
       "                      transaction_id  amount currency  \\\n",
       "0  T8c3444845ea837d98f6492fbfeb996b1   300.0      USD   \n",
       "1  Td0c9a05199c034f282105c258edf4c90    42.5      USD   \n",
       "2  Tf9ce6b86a4e1379eb600c9af4c1ae90e   250.0      USD   \n",
       "3  T4f1445aa5fd536f09d13bd6918c057fb    42.5      USD   \n",
       "4  T7be6870fc08e30c48fd78836885adf12   114.5      USD   \n",
       "\n",
       "                         txn_desc1  \\\n",
       "0       External Withdrawal TJMAXX   \n",
       "1      POS Withdrawal (FIP) SUNOCO   \n",
       "2  External Withdrawal BARCLAYCARD   \n",
       "3    ATM Withdrawal (FIP) SUNSHINE   \n",
       "4         POS Withdrawal (FIP) NNT   \n",
       "\n",
       "                                        txn_desc2 region  \\\n",
       "0            MASTERCAR NEEDHAM BANK BP BILL PAYMT     MT   \n",
       "1              *63 SUNOCO *63 FRAMINGHAM MA(8631)   None   \n",
       "2                                   US CREDITCARD   None   \n",
       "3       LLC-60 464 MAIN ST WEST SPRINGFI MA(5681)   None   \n",
       "4  DESTINATION 735 PROVIDENCE HWY DEDHAM MA(7169)   None   \n",
       "\n",
       "  transaction_timestamp  merchant_id    merchant_name         payment_agent  \\\n",
       "0            2023-02-08      12897.0          TJ MAXX  Unknow Payment Agent   \n",
       "1            2023-02-08      12696.0           SUNOCO  Unknow Payment Agent   \n",
       "2            2023-02-07          NaN  Unknow Merchant  Unknow Payment Agent   \n",
       "3            2023-02-08          NaN  Unknow Merchant  Unknow Payment Agent   \n",
       "4            2023-02-11          NaN  Unknow Merchant  Unknow Payment Agent   \n",
       "\n",
       "   payment_agent_id extract_date                              filename  \\\n",
       "0               NaN   2023-02-13  FTS_CSLK_TRANSAC_20230212_100011.csv   \n",
       "1               NaN   2023-02-13  FTS_CSLK_TRANSAC_20230212_100011.csv   \n",
       "2               NaN   2023-02-13  FTS_CSLK_TRANSAC_20230212_100011.csv   \n",
       "3               NaN   2023-02-13  FTS_CSLK_TRANSAC_20230212_100011.csv   \n",
       "4               NaN   2023-02-13  FTS_CSLK_TRANSAC_20230212_100011.csv   \n",
       "\n",
       "           name  \n",
       "0  Needham Bank  \n",
       "1  Needham Bank  \n",
       "2  Needham Bank  \n",
       "3  Needham Bank  \n",
       "4  Needham Bank  "
      ]
     },
     "execution_count": 3,
     "metadata": {},
     "output_type": "execute_result"
    }
   ],
   "source": [
    "df.head()"
   ]
  },
  {
   "cell_type": "code",
   "execution_count": 4,
   "metadata": {},
   "outputs": [
    {
     "name": "stdout",
     "output_type": "stream",
     "text": [
      "Total number of lines and columns on the original dataset is:  (2280287, 16)\n"
     ]
    }
   ],
   "source": [
    "print('Total number of lines and columns on the original dataset is: ', df.shape)"
   ]
  },
  {
   "attachments": {},
   "cell_type": "markdown",
   "metadata": {},
   "source": [
    "1. Dataset with Unknow Merchants"
   ]
  },
  {
   "cell_type": "code",
   "execution_count": 5,
   "metadata": {},
   "outputs": [
    {
     "data": {
      "text/plain": [
       "(2280287, 16)"
      ]
     },
     "execution_count": 5,
     "metadata": {},
     "output_type": "execute_result"
    }
   ],
   "source": [
    "df_unknown_merchs = df.copy(deep=True)\n",
    "df_unknown_merchs.shape"
   ]
  },
  {
   "attachments": {},
   "cell_type": "markdown",
   "metadata": {},
   "source": [
    "2. Dataset with Known Merchants"
   ]
  },
  {
   "cell_type": "code",
   "execution_count": 6,
   "metadata": {},
   "outputs": [
    {
     "data": {
      "text/plain": [
       "(1133623, 16)"
      ]
     },
     "execution_count": 6,
     "metadata": {},
     "output_type": "execute_result"
    }
   ],
   "source": [
    "df_known_merchs = df_unknown_merchs.copy(deep=True)\n",
    "df_known_merchs = df_known_merchs[df_unknown_merchs[\"merchant_name\"].str.contains(\"Unknow Merchant\") == False]\n",
    "df_known_merchs.shape"
   ]
  },
  {
   "cell_type": "code",
   "execution_count": 7,
   "metadata": {},
   "outputs": [
    {
     "data": {
      "text/plain": [
       "(1133623, 6)"
      ]
     },
     "execution_count": 7,
     "metadata": {},
     "output_type": "execute_result"
    }
   ],
   "source": [
    "#Creating new columns CONCAT_COLS, AFS_MECHANT_NAMES, NER_RAW_MODEL\n",
    "pd.set_option('display.max_colwidth', None)\n",
    "\n",
    "\n",
    "df2 = df_known_merchs[['txn_desc1','txn_desc2','merchant_name']].copy(deep=True)\n",
    "df2[\"CONCAT_COLS\"] = df['txn_desc1'].astype(str) +\" %%%%% \"+ df['txn_desc2'].astype(str)\n",
    "\n",
    "df2['NER_RAW_MODEL'] = pd.Series(dtype='string')\n",
    "\n",
    "df2['AFS_MECHANT_NAMES']= df2['merchant_name'].str.lower().str.replace(' ','').fillna('-')\n",
    "\n",
    "df2.shape"
   ]
  },
  {
   "attachments": {},
   "cell_type": "markdown",
   "metadata": {},
   "source": [
    "2.1. NER model application"
   ]
  },
  {
   "cell_type": "code",
   "execution_count": null,
   "metadata": {},
   "outputs": [],
   "source": [
    "def raw_model(text:str):\n",
    "    text_ner = NER(text)\n",
    "    r_orgs = []\n",
    "    for word in text_ner.ents:\n",
    "        if word.label_ == \"ORG\":\n",
    "            r_orgs.append(word.text)\n",
    "    return ' '.join(r_orgs) if r_orgs else 'NA'"
   ]
  },
  {
   "cell_type": "code",
   "execution_count": null,
   "metadata": {},
   "outputs": [],
   "source": [
    "#df2['NER_RAW_MODEL'] = df2.CONCAT_COLS.progress_apply(raw_model)\n",
    "\n",
    "df2['NER_RAW_MODEL'] = df2['CONCAT_COLS'].swifter.apply(raw_model)\n",
    "df2.head(5)\n"
   ]
  },
  {
   "cell_type": "code",
   "execution_count": 8,
   "metadata": {},
   "outputs": [
    {
     "data": {
      "text/html": [
       "<div>\n",
       "<style scoped>\n",
       "    .dataframe tbody tr th:only-of-type {\n",
       "        vertical-align: middle;\n",
       "    }\n",
       "\n",
       "    .dataframe tbody tr th {\n",
       "        vertical-align: top;\n",
       "    }\n",
       "\n",
       "    .dataframe thead th {\n",
       "        text-align: right;\n",
       "    }\n",
       "</style>\n",
       "<table border=\"1\" class=\"dataframe\">\n",
       "  <thead>\n",
       "    <tr style=\"text-align: right;\">\n",
       "      <th></th>\n",
       "      <th>txn_desc1</th>\n",
       "      <th>txn_desc2</th>\n",
       "      <th>merchant_name</th>\n",
       "      <th>CONCAT_COLS</th>\n",
       "      <th>NER_RAW_MODEL</th>\n",
       "      <th>AFS_MECHANT_NAMES</th>\n",
       "    </tr>\n",
       "  </thead>\n",
       "  <tbody>\n",
       "    <tr>\n",
       "      <th>0</th>\n",
       "      <td>External Withdrawal TJMAXX</td>\n",
       "      <td>MASTERCAR NEEDHAM BANK BP BILL PAYMT</td>\n",
       "      <td>TJ MAXX</td>\n",
       "      <td>external withdrawal tjmaxx %%%%% mastercar needham bank bp bill paymt</td>\n",
       "      <td>-</td>\n",
       "      <td>tjmaxx</td>\n",
       "    </tr>\n",
       "    <tr>\n",
       "      <th>1</th>\n",
       "      <td>POS Withdrawal (FIP) SUNOCO</td>\n",
       "      <td>*63 SUNOCO *63 FRAMINGHAM MA(8631)</td>\n",
       "      <td>SUNOCO</td>\n",
       "      <td>pos withdrawal (fip) sunoco %%%%%  63 sunoco  63 framingham ma(8631)</td>\n",
       "      <td>-</td>\n",
       "      <td>sunoco</td>\n",
       "    </tr>\n",
       "    <tr>\n",
       "      <th>5</th>\n",
       "      <td>POS Withdrawal (FIP) KOHLS 0575</td>\n",
       "      <td>1 WORCESTER RD FRAMINGHAM MA(8806)</td>\n",
       "      <td>KOHL'S</td>\n",
       "      <td>pos withdrawal (fip) kohls 0575 %%%%% 1 worcester rd framingham ma(8806)</td>\n",
       "      <td>-</td>\n",
       "      <td>kohl's</td>\n",
       "    </tr>\n",
       "    <tr>\n",
       "      <th>7</th>\n",
       "      <td>POS Withdrawal (FIS)</td>\n",
       "      <td>AMAZON.COM*HE3H AMAZON.COM SEATTLE WA(6966)</td>\n",
       "      <td>AMAZON.COM</td>\n",
       "      <td>pos withdrawal (fis) %%%%% amazon.com he3h amazon.com seattle wa(6966)</td>\n",
       "      <td>-</td>\n",
       "      <td>amazon.com</td>\n",
       "    </tr>\n",
       "    <tr>\n",
       "      <th>12</th>\n",
       "      <td>POS Withdrawal (FIS)</td>\n",
       "      <td>AMAZON.COM*HR0D AMAZON.COM SEATTLE WA(6966)</td>\n",
       "      <td>AMAZON.COM</td>\n",
       "      <td>pos withdrawal (fis) %%%%% amazon.com hr0d amazon.com seattle wa(6966)</td>\n",
       "      <td>-</td>\n",
       "      <td>amazon.com</td>\n",
       "    </tr>\n",
       "  </tbody>\n",
       "</table>\n",
       "</div>"
      ],
      "text/plain": [
       "                          txn_desc1  \\\n",
       "0        External Withdrawal TJMAXX   \n",
       "1       POS Withdrawal (FIP) SUNOCO   \n",
       "5   POS Withdrawal (FIP) KOHLS 0575   \n",
       "7              POS Withdrawal (FIS)   \n",
       "12             POS Withdrawal (FIS)   \n",
       "\n",
       "                                      txn_desc2 merchant_name  \\\n",
       "0          MASTERCAR NEEDHAM BANK BP BILL PAYMT       TJ MAXX   \n",
       "1            *63 SUNOCO *63 FRAMINGHAM MA(8631)        SUNOCO   \n",
       "5            1 WORCESTER RD FRAMINGHAM MA(8806)        KOHL'S   \n",
       "7   AMAZON.COM*HE3H AMAZON.COM SEATTLE WA(6966)    AMAZON.COM   \n",
       "12  AMAZON.COM*HR0D AMAZON.COM SEATTLE WA(6966)    AMAZON.COM   \n",
       "\n",
       "                                                                 CONCAT_COLS  \\\n",
       "0      external withdrawal tjmaxx %%%%% mastercar needham bank bp bill paymt   \n",
       "1       pos withdrawal (fip) sunoco %%%%%  63 sunoco  63 framingham ma(8631)   \n",
       "5   pos withdrawal (fip) kohls 0575 %%%%% 1 worcester rd framingham ma(8806)   \n",
       "7     pos withdrawal (fis) %%%%% amazon.com he3h amazon.com seattle wa(6966)   \n",
       "12    pos withdrawal (fis) %%%%% amazon.com hr0d amazon.com seattle wa(6966)   \n",
       "\n",
       "   NER_RAW_MODEL AFS_MECHANT_NAMES  \n",
       "0              -            tjmaxx  \n",
       "1              -            sunoco  \n",
       "5              -            kohl's  \n",
       "7              -        amazon.com  \n",
       "12             -        amazon.com  "
      ]
     },
     "execution_count": 8,
     "metadata": {},
     "output_type": "execute_result"
    }
   ],
   "source": [
    "df2['CONCAT_COLS']= df2['CONCAT_COLS'].str.lower().str.replace(r'\\s{2,}','').str.replace(r\"[,;@#?!&$*]+\\ *\", \" \")\n",
    "df2['NER_RAW_MODEL']= df2['NER_RAW_MODEL'].str.lower().str.replace(' ','').fillna('-')\n",
    "\n",
    "df2.head(5)"
   ]
  },
  {
   "cell_type": "code",
   "execution_count": 9,
   "metadata": {},
   "outputs": [
    {
     "data": {
      "text/plain": [
       "txn_desc1            132917\n",
       "txn_desc2            655042\n",
       "merchant_name          1793\n",
       "CONCAT_COLS          745566\n",
       "NER_RAW_MODEL             1\n",
       "AFS_MECHANT_NAMES      1793\n",
       "dtype: int64"
      ]
     },
     "execution_count": 9,
     "metadata": {},
     "output_type": "execute_result"
    }
   ],
   "source": [
    "df2.nunique()"
   ]
  },
  {
   "cell_type": "code",
   "execution_count": 10,
   "metadata": {},
   "outputs": [
    {
     "data": {
      "text/plain": [
       "False    1133623\n",
       "dtype: Int64"
      ]
     },
     "execution_count": 10,
     "metadata": {},
     "output_type": "execute_result"
    }
   ],
   "source": [
    "(df2.AFS_MECHANT_NAMES == df2.NER_RAW_MODEL).value_counts()"
   ]
  },
  {
   "cell_type": "code",
   "execution_count": 11,
   "metadata": {},
   "outputs": [
    {
     "name": "stdout",
     "output_type": "stream",
     "text": [
      "The total number of distinct merchants is:  1793\n"
     ]
    }
   ],
   "source": [
    "# Getting number of total merchant names\n",
    "a = df2.AFS_MECHANT_NAMES\n",
    "aunique = a.unique()\n",
    "dist_list = pd.DataFrame(aunique)\n",
    "print('The total number of distinct merchants is: ', len(dist_list))"
   ]
  },
  {
   "cell_type": "code",
   "execution_count": 12,
   "metadata": {},
   "outputs": [],
   "source": [
    "df3 = df2[['CONCAT_COLS','AFS_MECHANT_NAMES', 'NER_RAW_MODEL']].copy(deep=True)"
   ]
  },
  {
   "cell_type": "code",
   "execution_count": 13,
   "metadata": {},
   "outputs": [],
   "source": [
    "i=0\n",
    "org = df3['AFS_MECHANT_NAMES']\n",
    "txt = df3['CONCAT_COLS']\n",
    "patterns1 =[]\n",
    "org_list = org.tolist()\n",
    "org_lis = []\n",
    "\n",
    "for lis in dist_list: #org_list // if org_list[i] != 'unknowmerchant':\n",
    "    org_lis.append(org_list[i])\n",
    "    i+=1\n",
    "    \n",
    "patterns1.append([{\"label\": \"ORG\", \"pattern\": dist_list}]) #org_lis\n",
    "\n",
    "#print(patterns1)\n",
    "\n",
    "#Counts number of distinct merchants in the list\n",
    "uniqueList = []\n",
    "count1=0\n",
    "for merchant in org_lis:\n",
    "    if merchant not in uniqueList:\n",
    "        uniqueList.append(merchant)\n",
    "    count1 +=1\n",
    "    \n",
    "\n",
    "\n",
    "#print(uniqueList , count1)\n"
   ]
  },
  {
   "cell_type": "code",
   "execution_count": 14,
   "metadata": {},
   "outputs": [
    {
     "name": "stderr",
     "output_type": "stream",
     "text": [
      "c:\\Users\\Olimpio.Dasilva\\Anaconda3\\lib\\site-packages\\spacy\\pipeline\\entityruler.py:339: UserWarning: [W012] A Doc object you're adding to the PhraseMatcher for pattern 'ORG' is parsed and/or tagged, but to match on 'ORTH', you don't actually need this information. This means that creating the patterns is potentially much slower, because all pipeline components are applied. To only create tokenized Doc objects, try using `nlp.make_doc(text)` or process all texts as a stream using `list(nlp.tokenizer.pipe(all_texts))`.\n",
      "  self.phrase_matcher.add(label, [pattern])  # type: ignore\n"
     ]
    }
   ],
   "source": [
    "from spacy.matcher import Matcher\n",
    "from spacy.pipeline import EntityRuler\n",
    "\n",
    "#Build upon the spaCy Model\n",
    "NER = spacy.load(\"en_core_web_sm\")\n",
    "\n",
    "org = df3['AFS_MECHANT_NAMES']\n",
    "#df3['PRED_2'].notna()\n",
    "\n",
    "\n",
    "#Create the EntityRuler\n",
    "ruler = NER.add_pipe(\"entity_ruler\", config={'validate': True})\n",
    "\n",
    "\n",
    "#List of Entities and Patterns\n",
    "org_list = org.tolist()\n",
    "org_lis = []\n",
    "\n",
    "i=0\n",
    "for lis in org_list: \n",
    "    org_lis.append(org_list[i]) \n",
    "    i+=1\n",
    "    \n",
    "a=0\n",
    "patterns = []\n",
    "for lis in range(len(org_list)): #range(500)\n",
    "    patterns.append({\"label\": \"ORG\", \"pattern\": org_lis[a]}) #org_lis // dist_list\n",
    "    a+=1\n",
    "    \n",
    "\n",
    "#print(patterns)\n",
    "ruler.add_patterns(patterns)"
   ]
  },
  {
   "cell_type": "code",
   "execution_count": 18,
   "metadata": {},
   "outputs": [],
   "source": [
    "def find_org(text:str):\n",
    "    text_ner = NER(text)\n",
    "    orgs = []\n",
    "    for word in text_ner.ents:\n",
    "        if word.label_ == \"ORG\":\n",
    "            orgs.append(word.text)\n",
    "    #return orgs if orgs else 'NA'\n",
    "    return ' '.join(orgs) if orgs else 'NA'"
   ]
  },
  {
   "cell_type": "code",
   "execution_count": 17,
   "metadata": {},
   "outputs": [
    {
     "data": {
      "application/vnd.jupyter.widget-view+json": {
       "model_id": "f5f861c7169d4ee89ad4603e7ed0e743",
       "version_major": 2,
       "version_minor": 0
      },
      "text/plain": [
       "Pandas Apply:   0%|          | 0/1133623 [00:00<?, ?it/s]"
      ]
     },
     "metadata": {},
     "output_type": "display_data"
    }
   ],
   "source": [
    "df3['PREDICTIONS'] = df3.CONCAT_COLS.swifter.apply(find_org)"
   ]
  },
  {
   "cell_type": "code",
   "execution_count": 19,
   "metadata": {},
   "outputs": [
    {
     "data": {
      "text/plain": [
       "0                              tjmaxx\n",
       "1                   fip sunoco sunoco\n",
       "5                                 fip\n",
       "7               amazon.com amazon.com\n",
       "12         amazon.com hr0d amazon.com\n",
       "                      ...            \n",
       "2280281                     starbucks\n",
       "2280282                            NA\n",
       "2280283                    7-eleven %\n",
       "2280285                            NA\n",
       "2280286                       express\n",
       "Name: PREDICTIONS, Length: 1133623, dtype: object"
      ]
     },
     "execution_count": 19,
     "metadata": {},
     "output_type": "execute_result"
    }
   ],
   "source": [
    "df3.PREDICTIONS"
   ]
  },
  {
   "cell_type": "code",
   "execution_count": 20,
   "metadata": {},
   "outputs": [],
   "source": [
    "## to check ###\n",
    "\n",
    "from fuzzywuzzy import fuzz\n",
    "from fuzzywuzzy import process\n",
    "from fuzzywuzzy import process, fuzz\n",
    "\n",
    "def check_names(a, b):\n",
    "    if ((a in b) or (b in a)):\n",
    "        return True\n",
    "    elif (fuzz.ratio(a, b) > 90):\n",
    "        return True\n",
    "    else:\n",
    "        return False\n",
    "\n"
   ]
  },
  {
   "cell_type": "code",
   "execution_count": 21,
   "metadata": {},
   "outputs": [
    {
     "data": {
      "text/html": [
       "<div>\n",
       "<style scoped>\n",
       "    .dataframe tbody tr th:only-of-type {\n",
       "        vertical-align: middle;\n",
       "    }\n",
       "\n",
       "    .dataframe tbody tr th {\n",
       "        vertical-align: top;\n",
       "    }\n",
       "\n",
       "    .dataframe thead th {\n",
       "        text-align: right;\n",
       "    }\n",
       "</style>\n",
       "<table border=\"1\" class=\"dataframe\">\n",
       "  <thead>\n",
       "    <tr style=\"text-align: right;\">\n",
       "      <th></th>\n",
       "      <th>CONCAT_COLS</th>\n",
       "      <th>AFS_MECHANT_NAMES</th>\n",
       "      <th>NER_RAW_MODEL</th>\n",
       "      <th>PREDICTIONS</th>\n",
       "    </tr>\n",
       "  </thead>\n",
       "  <tbody>\n",
       "    <tr>\n",
       "      <th>0</th>\n",
       "      <td>external withdrawal tjmaxx %%%%% mastercar needham bank bp bill paymt</td>\n",
       "      <td>tjmaxx</td>\n",
       "      <td>-</td>\n",
       "      <td>tjmaxx</td>\n",
       "    </tr>\n",
       "    <tr>\n",
       "      <th>1</th>\n",
       "      <td>pos withdrawal (fip) sunoco %%%%%  63 sunoco  63 framingham ma(8631)</td>\n",
       "      <td>sunoco</td>\n",
       "      <td>-</td>\n",
       "      <td>fip sunoco sunoco</td>\n",
       "    </tr>\n",
       "    <tr>\n",
       "      <th>5</th>\n",
       "      <td>pos withdrawal (fip) kohls 0575 %%%%% 1 worcester rd framingham ma(8806)</td>\n",
       "      <td>kohl's</td>\n",
       "      <td>-</td>\n",
       "      <td>fip</td>\n",
       "    </tr>\n",
       "    <tr>\n",
       "      <th>7</th>\n",
       "      <td>pos withdrawal (fis) %%%%% amazon.com he3h amazon.com seattle wa(6966)</td>\n",
       "      <td>amazon.com</td>\n",
       "      <td>-</td>\n",
       "      <td>amazon.com amazon.com</td>\n",
       "    </tr>\n",
       "    <tr>\n",
       "      <th>12</th>\n",
       "      <td>pos withdrawal (fis) %%%%% amazon.com hr0d amazon.com seattle wa(6966)</td>\n",
       "      <td>amazon.com</td>\n",
       "      <td>-</td>\n",
       "      <td>amazon.com hr0d amazon.com</td>\n",
       "    </tr>\n",
       "  </tbody>\n",
       "</table>\n",
       "</div>"
      ],
      "text/plain": [
       "                                                                 CONCAT_COLS  \\\n",
       "0      external withdrawal tjmaxx %%%%% mastercar needham bank bp bill paymt   \n",
       "1       pos withdrawal (fip) sunoco %%%%%  63 sunoco  63 framingham ma(8631)   \n",
       "5   pos withdrawal (fip) kohls 0575 %%%%% 1 worcester rd framingham ma(8806)   \n",
       "7     pos withdrawal (fis) %%%%% amazon.com he3h amazon.com seattle wa(6966)   \n",
       "12    pos withdrawal (fis) %%%%% amazon.com hr0d amazon.com seattle wa(6966)   \n",
       "\n",
       "   AFS_MECHANT_NAMES NER_RAW_MODEL                 PREDICTIONS  \n",
       "0             tjmaxx             -                      tjmaxx  \n",
       "1             sunoco             -           fip sunoco sunoco  \n",
       "5             kohl's             -                         fip  \n",
       "7         amazon.com             -       amazon.com amazon.com  \n",
       "12        amazon.com             -  amazon.com hr0d amazon.com  "
      ]
     },
     "execution_count": 21,
     "metadata": {},
     "output_type": "execute_result"
    }
   ],
   "source": [
    "df3.head(5)"
   ]
  },
  {
   "cell_type": "code",
   "execution_count": 27,
   "metadata": {},
   "outputs": [
    {
     "data": {
      "text/html": [
       "<div>\n",
       "<style scoped>\n",
       "    .dataframe tbody tr th:only-of-type {\n",
       "        vertical-align: middle;\n",
       "    }\n",
       "\n",
       "    .dataframe tbody tr th {\n",
       "        vertical-align: top;\n",
       "    }\n",
       "\n",
       "    .dataframe thead th {\n",
       "        text-align: right;\n",
       "    }\n",
       "</style>\n",
       "<table border=\"1\" class=\"dataframe\">\n",
       "  <thead>\n",
       "    <tr style=\"text-align: right;\">\n",
       "      <th></th>\n",
       "      <th>CONCAT_COLS</th>\n",
       "      <th>AFS_MECHANT_NAMES</th>\n",
       "      <th>NER_RAW_MODEL</th>\n",
       "      <th>PREDICTIONS</th>\n",
       "      <th>CHECK</th>\n",
       "      <th>SIMILARITY</th>\n",
       "    </tr>\n",
       "  </thead>\n",
       "  <tbody>\n",
       "    <tr>\n",
       "      <th>0</th>\n",
       "      <td>external withdrawal tjmaxx %%%%% mastercar needham bank bp bill paymt</td>\n",
       "      <td>tjmaxx</td>\n",
       "      <td>-</td>\n",
       "      <td>tjmaxx</td>\n",
       "      <td>True</td>\n",
       "      <td>100</td>\n",
       "    </tr>\n",
       "    <tr>\n",
       "      <th>1</th>\n",
       "      <td>pos withdrawal (fip) sunoco %%%%%  63 sunoco  63 framingham ma(8631)</td>\n",
       "      <td>sunoco</td>\n",
       "      <td>-</td>\n",
       "      <td>fip sunoco sunoco</td>\n",
       "      <td>True</td>\n",
       "      <td>52</td>\n",
       "    </tr>\n",
       "    <tr>\n",
       "      <th>5</th>\n",
       "      <td>pos withdrawal (fip) kohls 0575 %%%%% 1 worcester rd framingham ma(8806)</td>\n",
       "      <td>kohl's</td>\n",
       "      <td>-</td>\n",
       "      <td>fip</td>\n",
       "      <td>False</td>\n",
       "      <td>0</td>\n",
       "    </tr>\n",
       "    <tr>\n",
       "      <th>7</th>\n",
       "      <td>pos withdrawal (fis) %%%%% amazon.com he3h amazon.com seattle wa(6966)</td>\n",
       "      <td>amazon.com</td>\n",
       "      <td>-</td>\n",
       "      <td>amazon.com amazon.com</td>\n",
       "      <td>True</td>\n",
       "      <td>65</td>\n",
       "    </tr>\n",
       "    <tr>\n",
       "      <th>12</th>\n",
       "      <td>pos withdrawal (fis) %%%%% amazon.com hr0d amazon.com seattle wa(6966)</td>\n",
       "      <td>amazon.com</td>\n",
       "      <td>-</td>\n",
       "      <td>amazon.com hr0d amazon.com</td>\n",
       "      <td>True</td>\n",
       "      <td>56</td>\n",
       "    </tr>\n",
       "    <tr>\n",
       "      <th>13</th>\n",
       "      <td>pos withdrawal (fis) ebay %%%%% o 23-09685 ebay o 23-09685-754 san jose ca(2810)</td>\n",
       "      <td>ebay</td>\n",
       "      <td>-</td>\n",
       "      <td>ebay ebay ca(2810</td>\n",
       "      <td>True</td>\n",
       "      <td>38</td>\n",
       "    </tr>\n",
       "    <tr>\n",
       "      <th>14</th>\n",
       "      <td>pos withdrawal (fip) nws %%%%% staples 000 881 worcester road natick ma(8806)</td>\n",
       "      <td>staples</td>\n",
       "      <td>-</td>\n",
       "      <td>fip staples</td>\n",
       "      <td>True</td>\n",
       "      <td>78</td>\n",
       "    </tr>\n",
       "    <tr>\n",
       "      <th>18</th>\n",
       "      <td>pos withdrawal (fis) nike.com %%%%% nike.com  6645 ca(9293)</td>\n",
       "      <td>nike</td>\n",
       "      <td>-</td>\n",
       "      <td>NA</td>\n",
       "      <td>False</td>\n",
       "      <td>0</td>\n",
       "    </tr>\n",
       "    <tr>\n",
       "      <th>19</th>\n",
       "      <td>pos withdrawal (fis) www costco %%%%% com www costco com 800-955-2292 wa(9702)</td>\n",
       "      <td>costco</td>\n",
       "      <td>-</td>\n",
       "      <td>costco costco</td>\n",
       "      <td>True</td>\n",
       "      <td>63</td>\n",
       "    </tr>\n",
       "    <tr>\n",
       "      <th>23</th>\n",
       "      <td>pos withdrawal (fip) star %%%%% market  36 star market  36 boston ma(1516)</td>\n",
       "      <td>starmarket</td>\n",
       "      <td>-</td>\n",
       "      <td>fip</td>\n",
       "      <td>False</td>\n",
       "      <td>0</td>\n",
       "    </tr>\n",
       "  </tbody>\n",
       "</table>\n",
       "</div>"
      ],
      "text/plain": [
       "                                                                         CONCAT_COLS  \\\n",
       "0              external withdrawal tjmaxx %%%%% mastercar needham bank bp bill paymt   \n",
       "1               pos withdrawal (fip) sunoco %%%%%  63 sunoco  63 framingham ma(8631)   \n",
       "5           pos withdrawal (fip) kohls 0575 %%%%% 1 worcester rd framingham ma(8806)   \n",
       "7             pos withdrawal (fis) %%%%% amazon.com he3h amazon.com seattle wa(6966)   \n",
       "12            pos withdrawal (fis) %%%%% amazon.com hr0d amazon.com seattle wa(6966)   \n",
       "13  pos withdrawal (fis) ebay %%%%% o 23-09685 ebay o 23-09685-754 san jose ca(2810)   \n",
       "14     pos withdrawal (fip) nws %%%%% staples 000 881 worcester road natick ma(8806)   \n",
       "18                       pos withdrawal (fis) nike.com %%%%% nike.com  6645 ca(9293)   \n",
       "19    pos withdrawal (fis) www costco %%%%% com www costco com 800-955-2292 wa(9702)   \n",
       "23        pos withdrawal (fip) star %%%%% market  36 star market  36 boston ma(1516)   \n",
       "\n",
       "   AFS_MECHANT_NAMES NER_RAW_MODEL                 PREDICTIONS  CHECK  \\\n",
       "0             tjmaxx             -                      tjmaxx   True   \n",
       "1             sunoco             -           fip sunoco sunoco   True   \n",
       "5             kohl's             -                         fip  False   \n",
       "7         amazon.com             -       amazon.com amazon.com   True   \n",
       "12        amazon.com             -  amazon.com hr0d amazon.com   True   \n",
       "13              ebay             -           ebay ebay ca(2810   True   \n",
       "14           staples             -                 fip staples   True   \n",
       "18              nike             -                          NA  False   \n",
       "19            costco             -               costco costco   True   \n",
       "23        starmarket             -                         fip  False   \n",
       "\n",
       "    SIMILARITY  \n",
       "0          100  \n",
       "1           52  \n",
       "5            0  \n",
       "7           65  \n",
       "12          56  \n",
       "13          38  \n",
       "14          78  \n",
       "18           0  \n",
       "19          63  \n",
       "23           0  "
      ]
     },
     "execution_count": 27,
     "metadata": {},
     "output_type": "execute_result"
    }
   ],
   "source": [
    "#New column CHECK for True/False results\n",
    "\n",
    "df3['CHECK'] = df3.apply(lambda x: check_names(x.AFS_MECHANT_NAMES, x.PREDICTIONS), axis=1)\n",
    "df3.head(10)"
   ]
  },
  {
   "cell_type": "code",
   "execution_count": 28,
   "metadata": {},
   "outputs": [
    {
     "name": "stdout",
     "output_type": "stream",
     "text": [
      "Accuracy: 0.290023226\n"
     ]
    }
   ],
   "source": [
    "# Checking Accuracy\n",
    "print('Accuracy: {0:0.9f}'.format(accuracy_score(df3.PREDICTIONS, df3.AFS_MECHANT_NAMES)))\n"
   ]
  },
  {
   "cell_type": "code",
   "execution_count": 29,
   "metadata": {},
   "outputs": [
    {
     "data": {
      "text/html": [
       "<div>\n",
       "<style scoped>\n",
       "    .dataframe tbody tr th:only-of-type {\n",
       "        vertical-align: middle;\n",
       "    }\n",
       "\n",
       "    .dataframe tbody tr th {\n",
       "        vertical-align: top;\n",
       "    }\n",
       "\n",
       "    .dataframe thead th {\n",
       "        text-align: right;\n",
       "    }\n",
       "</style>\n",
       "<table border=\"1\" class=\"dataframe\">\n",
       "  <thead>\n",
       "    <tr style=\"text-align: right;\">\n",
       "      <th></th>\n",
       "      <th>CONCAT_COLS</th>\n",
       "      <th>AFS_MECHANT_NAMES</th>\n",
       "      <th>NER_RAW_MODEL</th>\n",
       "      <th>PREDICTIONS</th>\n",
       "      <th>CHECK</th>\n",
       "      <th>SIMILARITY</th>\n",
       "    </tr>\n",
       "  </thead>\n",
       "  <tbody>\n",
       "    <tr>\n",
       "      <th>0</th>\n",
       "      <td>external withdrawal tjmaxx %%%%% mastercar needham bank bp bill paymt</td>\n",
       "      <td>tjmaxx</td>\n",
       "      <td>-</td>\n",
       "      <td>tjmaxx</td>\n",
       "      <td>True</td>\n",
       "      <td>100</td>\n",
       "    </tr>\n",
       "    <tr>\n",
       "      <th>1</th>\n",
       "      <td>pos withdrawal (fip) sunoco %%%%%  63 sunoco  63 framingham ma(8631)</td>\n",
       "      <td>sunoco</td>\n",
       "      <td>-</td>\n",
       "      <td>fip sunoco sunoco</td>\n",
       "      <td>True</td>\n",
       "      <td>52</td>\n",
       "    </tr>\n",
       "    <tr>\n",
       "      <th>5</th>\n",
       "      <td>pos withdrawal (fip) kohls 0575 %%%%% 1 worcester rd framingham ma(8806)</td>\n",
       "      <td>kohl's</td>\n",
       "      <td>-</td>\n",
       "      <td>fip</td>\n",
       "      <td>False</td>\n",
       "      <td>0</td>\n",
       "    </tr>\n",
       "    <tr>\n",
       "      <th>7</th>\n",
       "      <td>pos withdrawal (fis) %%%%% amazon.com he3h amazon.com seattle wa(6966)</td>\n",
       "      <td>amazon.com</td>\n",
       "      <td>-</td>\n",
       "      <td>amazon.com amazon.com</td>\n",
       "      <td>True</td>\n",
       "      <td>65</td>\n",
       "    </tr>\n",
       "    <tr>\n",
       "      <th>12</th>\n",
       "      <td>pos withdrawal (fis) %%%%% amazon.com hr0d amazon.com seattle wa(6966)</td>\n",
       "      <td>amazon.com</td>\n",
       "      <td>-</td>\n",
       "      <td>amazon.com hr0d amazon.com</td>\n",
       "      <td>True</td>\n",
       "      <td>56</td>\n",
       "    </tr>\n",
       "    <tr>\n",
       "      <th>13</th>\n",
       "      <td>pos withdrawal (fis) ebay %%%%% o 23-09685 ebay o 23-09685-754 san jose ca(2810)</td>\n",
       "      <td>ebay</td>\n",
       "      <td>-</td>\n",
       "      <td>ebay ebay ca(2810</td>\n",
       "      <td>True</td>\n",
       "      <td>38</td>\n",
       "    </tr>\n",
       "    <tr>\n",
       "      <th>14</th>\n",
       "      <td>pos withdrawal (fip) nws %%%%% staples 000 881 worcester road natick ma(8806)</td>\n",
       "      <td>staples</td>\n",
       "      <td>-</td>\n",
       "      <td>fip staples</td>\n",
       "      <td>True</td>\n",
       "      <td>78</td>\n",
       "    </tr>\n",
       "    <tr>\n",
       "      <th>18</th>\n",
       "      <td>pos withdrawal (fis) nike.com %%%%% nike.com  6645 ca(9293)</td>\n",
       "      <td>nike</td>\n",
       "      <td>-</td>\n",
       "      <td>NA</td>\n",
       "      <td>False</td>\n",
       "      <td>0</td>\n",
       "    </tr>\n",
       "    <tr>\n",
       "      <th>19</th>\n",
       "      <td>pos withdrawal (fis) www costco %%%%% com www costco com 800-955-2292 wa(9702)</td>\n",
       "      <td>costco</td>\n",
       "      <td>-</td>\n",
       "      <td>costco costco</td>\n",
       "      <td>True</td>\n",
       "      <td>63</td>\n",
       "    </tr>\n",
       "    <tr>\n",
       "      <th>23</th>\n",
       "      <td>pos withdrawal (fip) star %%%%% market  36 star market  36 boston ma(1516)</td>\n",
       "      <td>starmarket</td>\n",
       "      <td>-</td>\n",
       "      <td>fip</td>\n",
       "      <td>False</td>\n",
       "      <td>0</td>\n",
       "    </tr>\n",
       "  </tbody>\n",
       "</table>\n",
       "</div>"
      ],
      "text/plain": [
       "                                                                         CONCAT_COLS  \\\n",
       "0              external withdrawal tjmaxx %%%%% mastercar needham bank bp bill paymt   \n",
       "1               pos withdrawal (fip) sunoco %%%%%  63 sunoco  63 framingham ma(8631)   \n",
       "5           pos withdrawal (fip) kohls 0575 %%%%% 1 worcester rd framingham ma(8806)   \n",
       "7             pos withdrawal (fis) %%%%% amazon.com he3h amazon.com seattle wa(6966)   \n",
       "12            pos withdrawal (fis) %%%%% amazon.com hr0d amazon.com seattle wa(6966)   \n",
       "13  pos withdrawal (fis) ebay %%%%% o 23-09685 ebay o 23-09685-754 san jose ca(2810)   \n",
       "14     pos withdrawal (fip) nws %%%%% staples 000 881 worcester road natick ma(8806)   \n",
       "18                       pos withdrawal (fis) nike.com %%%%% nike.com  6645 ca(9293)   \n",
       "19    pos withdrawal (fis) www costco %%%%% com www costco com 800-955-2292 wa(9702)   \n",
       "23        pos withdrawal (fip) star %%%%% market  36 star market  36 boston ma(1516)   \n",
       "\n",
       "   AFS_MECHANT_NAMES NER_RAW_MODEL                 PREDICTIONS  CHECK  \\\n",
       "0             tjmaxx             -                      tjmaxx   True   \n",
       "1             sunoco             -           fip sunoco sunoco   True   \n",
       "5             kohl's             -                         fip  False   \n",
       "7         amazon.com             -       amazon.com amazon.com   True   \n",
       "12        amazon.com             -  amazon.com hr0d amazon.com   True   \n",
       "13              ebay             -           ebay ebay ca(2810   True   \n",
       "14           staples             -                 fip staples   True   \n",
       "18              nike             -                          NA  False   \n",
       "19            costco             -               costco costco   True   \n",
       "23        starmarket             -                         fip  False   \n",
       "\n",
       "    SIMILARITY  \n",
       "0          100  \n",
       "1           52  \n",
       "5            0  \n",
       "7           65  \n",
       "12          56  \n",
       "13          38  \n",
       "14          78  \n",
       "18           0  \n",
       "19          63  \n",
       "23           0  "
      ]
     },
     "execution_count": 29,
     "metadata": {},
     "output_type": "execute_result"
    }
   ],
   "source": [
    "\n",
    "df3['SIMILARITY'] = pd.Series(dtype='string')\n",
    "\n",
    "df3['SIMILARITY'] = df3.apply(lambda x: fuzz.ratio(x['AFS_MECHANT_NAMES'], x['PREDICTIONS']), axis=1)\n",
    "\n",
    "#df3['SIMILARITY'] = df3.apply(lambda x: fuzz.token_sort_ratio(x['AFS_MECHANT_NAMES'], x['PREDICTIONS']), axis=1)\n",
    "\n",
    "#df3['SIMILARITY'] = df3.apply(lambda x: fuzz.WRatio(x['AFS_MECHANT_NAMES'], x['PREDICTIONS']), axis=1)\n",
    "\n",
    "df3.head(10)"
   ]
  },
  {
   "cell_type": "code",
   "execution_count": 32,
   "metadata": {},
   "outputs": [
    {
     "data": {
      "text/plain": [
       "False    804846\n",
       "True     328777\n",
       "dtype: int64"
      ]
     },
     "execution_count": 32,
     "metadata": {},
     "output_type": "execute_result"
    }
   ],
   "source": [
    "(df3.AFS_MECHANT_NAMES == df3.PREDICTIONS).value_counts()"
   ]
  },
  {
   "cell_type": "code",
   "execution_count": 33,
   "metadata": {},
   "outputs": [
    {
     "data": {
      "text/plain": [
       "(1133623, 6)"
      ]
     },
     "execution_count": 33,
     "metadata": {},
     "output_type": "execute_result"
    }
   ],
   "source": [
    "df3.shape"
   ]
  },
  {
   "cell_type": "code",
   "execution_count": null,
   "metadata": {},
   "outputs": [],
   "source": []
  }
 ],
 "metadata": {
  "kernelspec": {
   "display_name": "base",
   "language": "python",
   "name": "python3"
  },
  "language_info": {
   "codemirror_mode": {
    "name": "ipython",
    "version": 3
   },
   "file_extension": ".py",
   "mimetype": "text/x-python",
   "name": "python",
   "nbconvert_exporter": "python",
   "pygments_lexer": "ipython3",
   "version": "3.9.13"
  },
  "orig_nbformat": 4,
  "vscode": {
   "interpreter": {
    "hash": "ee5c0effffb767cc55df70193c597b13040293a519221389f675f4d9df460b1f"
   }
  }
 },
 "nbformat": 4,
 "nbformat_minor": 2
}
